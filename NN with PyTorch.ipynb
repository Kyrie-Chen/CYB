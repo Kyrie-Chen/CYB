{
 "cells": [
  {
   "cell_type": "code",
   "execution_count": null,
   "metadata": {},
   "outputs": [],
   "source": [
    "import torch       \n",
    "\n",
    "class myTwoLayerNet(torch.nn.Module):\n",
    "    def __init__(self, D_in, H, D_out):\n",
    "        super(myTwoLayerNet, self).__init__()\n",
    "        self.linear1 = torch.nn.Linear(D_in, H)\n",
    "        self.linear2 = torch.nn.Linear(H, D_out)\n",
    "        \n",
    "    def forward(self, x):\n",
    "        h_relu = self.linear1(x).clamp(min = 0)    # Linear -> Relu\n",
    "        y_pred = self.linear2(x)\n",
    "        return y_pred\n",
    "        \n",
    "    \n",
    "\n",
    "N, D_in, H, D_out = 64, 1000, 100, 10\n",
    "x = torch.randn(N, D_in)\n",
    "y = torch.randn(N, D_out)\n",
    "\n",
    "# 定义模型（前向传播）\n",
    "model = torch.nn.Sequential(torch.nn.Linear(D_in, H), torch.nn.ReLU(), torch.nn.Linear(H, D_out))\n",
    "# model = myTwoLayerNet(D_in, H, D_out)    # 根据上述定义的模块\n",
    "\n",
    "# 定义优化器\n",
    "optimizer = torch.optim.Adam(model.parameters(), lr= 1e-4)    # learning_rate = 1e-4\n",
    "\n",
    "for t in range(500):\n",
    "    y_pred = model(x)\n",
    "    # 计算损失函数\n",
    "    loss = torch.nn.functional.mse_loss(y_pred, y)\n",
    "    \n",
    "    # 反向传播\n",
    "    loss.backward()\n",
    "    \n",
    "    # 通过优化器更新参数\n",
    "    optimizer.step()\n",
    "    # 清空梯度值，防止与下一次循环时的值累加\n",
    "    optimizer.zero_grad()\n",
    "    \n",
    "    \n",
    "    "
   ]
  }
 ],
 "metadata": {
  "kernelspec": {
   "display_name": "Python 3",
   "language": "python",
   "name": "python3"
  },
  "language_info": {
   "codemirror_mode": {
    "name": "ipython",
    "version": 3
   },
   "file_extension": ".py",
   "mimetype": "text/x-python",
   "name": "python",
   "nbconvert_exporter": "python",
   "pygments_lexer": "ipython3",
   "version": "3.7.0"
  }
 },
 "nbformat": 4,
 "nbformat_minor": 2
}
